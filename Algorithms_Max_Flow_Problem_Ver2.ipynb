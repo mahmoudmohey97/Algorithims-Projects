{
  "nbformat": 4,
  "nbformat_minor": 0,
  "metadata": {
    "colab": {
      "name": "Algorithms_Max_Flow_Problem_Ver2.ipynb",
      "provenance": []
    },
    "kernelspec": {
      "name": "python3",
      "display_name": "Python 3"
    },
    "language_info": {
      "name": "python"
    }
  },
  "cells": [
    {
      "cell_type": "markdown",
      "metadata": {
        "id": "PzMYfoh6sMrC"
      },
      "source": [
        "###Stack Implementation"
      ]
    },
    {
      "cell_type": "code",
      "metadata": {
        "id": "Tzjy1g_vsQOg"
      },
      "source": [
        "class Stack():\n",
        "  def __init__(self, size, arr = []):\n",
        "    self.arr = arr.copy()\n",
        "    self.size = size\n",
        "  \n",
        "  def top(self):\n",
        "    if self.is_empty():\n",
        "      return\n",
        "    return self.arr[-1]\n",
        "  def pop(self):\n",
        "    if self.is_empty():\n",
        "      return -1\n",
        "    return self.arr.pop(-1)\n",
        "\n",
        "  def push(self, value):\n",
        "    if len(self.arr) == self.size:\n",
        "      self.size *= 2\n",
        "    self.arr.append(value)\n",
        "\n",
        "  def is_empty(self):\n",
        "    return len(self.arr) == 0\n",
        "  def is_full(self):\n",
        "    return len(self.arr) == self.size\n",
        "\n",
        "  def __repr__(self):\n",
        "    return str(self.arr)"
      ],
      "execution_count": 1,
      "outputs": []
    },
    {
      "cell_type": "markdown",
      "metadata": {
        "id": "UFDCWRe7sX_9"
      },
      "source": [
        "###DFS"
      ]
    },
    {
      "cell_type": "code",
      "metadata": {
        "id": "zNBePFatsbjc"
      },
      "source": [
        "#Complexity = n^2\n",
        "def dfs_greedy_new(graph, source, sink):\n",
        "  visited = []\n",
        "\n",
        "  s = Stack(100)\n",
        "  s.push(source)\n",
        "\n",
        "  while not s.is_empty():\n",
        "    node = s.pop()\n",
        "    if node in visited:\n",
        "      continue\n",
        "      \n",
        "    visited.append(node)\n",
        "\n",
        "    if node == sink:\n",
        "      return visited\n",
        "\n",
        "    sortedM = sorted(zip(graph[node], range(len(graph))))\n",
        "    for i in range(len(sortedM)):\n",
        "      ind = sortedM[i][1]\n",
        "      if graph[node][ind] != 0 and ind not in visited:\n",
        "        s.push(ind)\n",
        "\n",
        "  return visited\n",
        "    "
      ],
      "execution_count": 2,
      "outputs": []
    },
    {
      "cell_type": "markdown",
      "metadata": {
        "id": "xDuaDT6wsSJb"
      },
      "source": [
        "###Greedy DFS Max Flow"
      ]
    },
    {
      "cell_type": "code",
      "metadata": {
        "id": "TqTIsMKNmUXv"
      },
      "source": [
        "#complexity = VN^2\n",
        "def greedy_max_flow(adj_mat, source, sink):\n",
        "  max_flow = 0\n",
        "\n",
        "  path = dfs_greedy_new(adj_mat, source, sink)\n",
        "  print(path)\n",
        "  while path[-1] == sink:\n",
        "    i = 1\n",
        "    while i < len(path):\n",
        "      if adj_mat[path[i - 1]][path[i]] == 0:\n",
        "        del(path[i - 1])\n",
        "        i -= 1\n",
        "      i += 1\n",
        "    \n",
        "    print(\"Path:\", path)\n",
        "  \n",
        "    minW = adj_mat[path[0]][path[1]]\n",
        "    for i in range(1, len(path) - 1):\n",
        "      currW = adj_mat[path[i]][path[i + 1]]\n",
        "      if currW < minW:\n",
        "        minW = currW\n",
        "\n",
        "    max_flow += minW\n",
        "    # print(\"Max flow:\", max_flow)\n",
        "    for i in range(0, len(path) - 1):\n",
        "      adj_mat[path[i]][path[i + 1]] -= minW\n",
        "\n",
        "    path = dfs_greedy_new(adj_mat, source, sink)\n",
        "  print(\"Path:\", path)\n",
        "\n",
        "  return max_flow"
      ],
      "execution_count": 3,
      "outputs": []
    },
    {
      "cell_type": "markdown",
      "metadata": {
        "id": "dCPy6xdDff_E"
      },
      "source": [
        "###Ford Fulkerson Max Flow"
      ]
    },
    {
      "cell_type": "code",
      "metadata": {
        "id": "A1J3K4GCRhOV"
      },
      "source": [
        "#complexity = VN^2\n",
        "def ford_fulkerson_max_flow(adj_mat, source, dist):\n",
        "  max_flow = 0\n",
        "\n",
        "  path = dfs_greedy_new(adj_mat, source, dist)\n",
        "  print(path)\n",
        "  while path[-1] == dist:\n",
        "    i = 1\n",
        "    while i < len(path):\n",
        "      if adj_mat[path[i - 1]][path[i]] == 0:\n",
        "        del(path[i - 1])\n",
        "        i -= 1\n",
        "      i += 1\n",
        "    \n",
        "    print(\"Path:\", path)\n",
        "\n",
        "    minW = adj_mat[path[0]][path[1]]\n",
        "    for i in range(1, len(path) - 1):\n",
        "      currW = adj_mat[path[i]][path[i + 1]]\n",
        "      if currW < minW:\n",
        "        minW = currW\n",
        "\n",
        "    max_flow += minW\n",
        "    for i in range(0, len(path) - 1):\n",
        "      adj_mat[path[i]][path[i + 1]] -= minW\n",
        "      adj_mat[path[i + 1]][path[i]] += minW\n",
        "\n",
        "    path = dfs_greedy_new(adj_mat, source, dist)\n",
        "  print(\"Path:\", path)\n",
        "\n",
        "  return max_flow"
      ],
      "execution_count": 4,
      "outputs": []
    },
    {
      "cell_type": "markdown",
      "metadata": {
        "id": "UqYrQJIYfjF7"
      },
      "source": [
        "###Examples"
      ]
    },
    {
      "cell_type": "code",
      "metadata": {
        "colab": {
          "base_uri": "https://localhost:8080/"
        },
        "id": "IWvZe7rSthXJ",
        "outputId": "f90f0f3e-1fbb-4b24-fd08-524a147eb3df"
      },
      "source": [
        "graph = [[0, 3, 2, 0],\n",
        "        [0, 0, 5, 2],\n",
        "        [0, 0, 0, 3],\n",
        "        [0, 0, 0, 0]]\n",
        "\n",
        "output_flow = 8\n",
        "\n",
        "print(greedy_max_flow(graph, 0, 3))\n",
        "\n",
        "graph = [[0, 3, 2, 0],\n",
        "        [0, 0, 5, 2],\n",
        "        [0, 0, 0, 3],\n",
        "        [0, 0, 0, 0]]\n",
        "\n",
        "print(ford_fulkerson_max_flow(graph, 0, 3))"
      ],
      "execution_count": 5,
      "outputs": [
        {
          "output_type": "stream",
          "text": [
            "[0, 1, 2, 3]\n",
            "Path: [0, 1, 2, 3]\n",
            "Path: [0, 2]\n",
            "3\n",
            "[0, 1, 2, 3]\n",
            "Path: [0, 1, 2, 3]\n",
            "Path: [0, 2, 1, 3]\n",
            "Path: [0]\n",
            "5\n"
          ],
          "name": "stdout"
        }
      ]
    },
    {
      "cell_type": "code",
      "metadata": {
        "id": "QQHXHPusVWWW",
        "colab": {
          "base_uri": "https://localhost:8080/"
        },
        "outputId": "0c21482f-f110-4547-f7f0-422371b2d29a"
      },
      "source": [
        "graph = [[0, 16, 13, 0, 0, 0],\n",
        "        [0, 0, 10, 12, 0, 0],\n",
        "        [0, 4, 0, 0, 14, 0],\n",
        "        [0, 0, 9, 0, 0, 20],\n",
        "        [0, 0, 0, 7, 0, 4],\n",
        "        [0, 0, 0, 0, 0, 0]]\n",
        "\n",
        "print(greedy_max_flow(graph, 0, 5))\n",
        "\n",
        "graph = [[0, 16, 13, 0, 0, 0],\n",
        "        [0, 0, 10, 12, 0, 0],\n",
        "        [0, 4, 0, 0, 14, 0],\n",
        "        [0, 0, 9, 0, 0, 20],\n",
        "        [0, 0, 0, 7, 0, 4],\n",
        "        [0, 0, 0, 0, 0, 0]]\n",
        "\n",
        "print(ford_fulkerson_max_flow(graph, 0, 5))"
      ],
      "execution_count": 6,
      "outputs": [
        {
          "output_type": "stream",
          "text": [
            "[0, 1, 3, 5]\n",
            "Path: [0, 1, 3, 5]\n",
            "Path: [0, 2, 4, 3, 5]\n",
            "Path: [0, 2, 4, 5]\n",
            "Path: [0, 1, 2, 4]\n",
            "23\n",
            "[0, 1, 3, 5]\n",
            "Path: [0, 1, 3, 5]\n",
            "Path: [0, 2, 4, 3, 5]\n",
            "Path: [0, 2, 4, 5]\n",
            "Path: [0, 1, 2, 4]\n",
            "23\n"
          ],
          "name": "stdout"
        }
      ]
    },
    {
      "cell_type": "code",
      "metadata": {
        "id": "HfryWtGGVXmW",
        "colab": {
          "base_uri": "https://localhost:8080/"
        },
        "outputId": "b554544b-57a1-4d18-d2ba-41242550193f"
      },
      "source": [
        "graph = [[0, 10, 8, 0, 0, 0],\n",
        "        [0, 0, 2, 5, 0, 0],\n",
        "        [0, 0, 0, 0, 10, 0],\n",
        "        [0, 0, 0, 0, 0, 7],\n",
        "        [0, 0, 0, 8, 0, 10],\n",
        "        [0, 0, 0, 0, 0, 0]]\n",
        "\n",
        "print(greedy_max_flow(graph, 0, 5))\n",
        "\n",
        "graph = [[0, 10, 8, 0, 0, 0],\n",
        "        [0, 0, 2, 5, 0, 0],\n",
        "        [0, 0, 0, 0, 10, 0],\n",
        "        [0, 0, 0, 0, 0, 7],\n",
        "        [0, 0, 0, 8, 0, 10],\n",
        "        [0, 0, 0, 0, 0, 0]]\n",
        "\n",
        "print(ford_fulkerson_max_flow(graph, 0, 5))"
      ],
      "execution_count": 7,
      "outputs": [
        {
          "output_type": "stream",
          "text": [
            "[0, 1, 3, 5]\n",
            "Path: [0, 1, 3, 5]\n",
            "Path: [0, 2, 4, 5]\n",
            "Path: [0, 1, 2, 4, 3, 5]\n",
            "Path: [0, 1]\n",
            "15\n",
            "[0, 1, 3, 5]\n",
            "Path: [0, 1, 3, 5]\n",
            "Path: [0, 2, 4, 5]\n",
            "Path: [0, 1, 2, 4, 3, 5]\n",
            "Path: [0, 1]\n",
            "15\n"
          ],
          "name": "stdout"
        }
      ]
    }
  ]
}